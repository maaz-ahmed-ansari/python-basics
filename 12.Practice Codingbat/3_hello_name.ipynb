{
 "cells": [
  {
   "cell_type": "code",
   "execution_count": 1,
   "id": "cd19c02e",
   "metadata": {},
   "outputs": [],
   "source": [
    "# Given a string name, e.g. \"Bob\", return a greeting of the form \"Hello Bob!\".\n",
    "\n",
    "\n",
    "# hello_name('Bob') → 'Hello Bob!'\n",
    "# hello_name('Alice') → 'Hello Alice!'\n",
    "# hello_name('X') → 'Hello X!'"
   ]
  },
  {
   "cell_type": "code",
   "execution_count": 2,
   "id": "ca175ecb",
   "metadata": {},
   "outputs": [],
   "source": [
    "# Solution\n",
    "def hello_name(name):\n",
    "  return \"Hello \" + name + \"!\""
   ]
  },
  {
   "cell_type": "code",
   "execution_count": 3,
   "id": "7d83c81d",
   "metadata": {},
   "outputs": [
    {
     "data": {
      "text/plain": [
       "'Hello Bob!'"
      ]
     },
     "execution_count": 3,
     "metadata": {},
     "output_type": "execute_result"
    }
   ],
   "source": [
    "hello_name('Bob')"
   ]
  },
  {
   "cell_type": "code",
   "execution_count": 4,
   "id": "a874288c",
   "metadata": {},
   "outputs": [
    {
     "data": {
      "text/plain": [
       "'Hello Alice!'"
      ]
     },
     "execution_count": 4,
     "metadata": {},
     "output_type": "execute_result"
    }
   ],
   "source": [
    "hello_name('Alice')"
   ]
  },
  {
   "cell_type": "code",
   "execution_count": 5,
   "id": "6ceb45b7",
   "metadata": {},
   "outputs": [
    {
     "data": {
      "text/plain": [
       "'Hello X!'"
      ]
     },
     "execution_count": 5,
     "metadata": {},
     "output_type": "execute_result"
    }
   ],
   "source": [
    "hello_name('X')"
   ]
  },
  {
   "cell_type": "code",
   "execution_count": 6,
   "id": "ffc5523f",
   "metadata": {},
   "outputs": [],
   "source": [
    "# Other solution\n",
    "\n",
    "def hello_name1(name):\n",
    "    return f\"Hello {name}!\""
   ]
  },
  {
   "cell_type": "code",
   "execution_count": 7,
   "id": "af8161ef",
   "metadata": {},
   "outputs": [
    {
     "data": {
      "text/plain": [
       "'Hello Alice!'"
      ]
     },
     "execution_count": 7,
     "metadata": {},
     "output_type": "execute_result"
    }
   ],
   "source": [
    "hello_name1(\"Alice\")"
   ]
  },
  {
   "cell_type": "code",
   "execution_count": 8,
   "id": "a7738961",
   "metadata": {},
   "outputs": [
    {
     "data": {
      "text/plain": [
       "'Hello Bob!'"
      ]
     },
     "execution_count": 8,
     "metadata": {},
     "output_type": "execute_result"
    }
   ],
   "source": [
    "hello_name1('Bob')"
   ]
  },
  {
   "cell_type": "code",
   "execution_count": null,
   "id": "303ae01e",
   "metadata": {},
   "outputs": [],
   "source": []
  }
 ],
 "metadata": {
  "kernelspec": {
   "display_name": "Python 3 (ipykernel)",
   "language": "python",
   "name": "python3"
  },
  "language_info": {
   "codemirror_mode": {
    "name": "ipython",
    "version": 3
   },
   "file_extension": ".py",
   "mimetype": "text/x-python",
   "name": "python",
   "nbconvert_exporter": "python",
   "pygments_lexer": "ipython3",
   "version": "3.11.2"
  }
 },
 "nbformat": 4,
 "nbformat_minor": 5
}
