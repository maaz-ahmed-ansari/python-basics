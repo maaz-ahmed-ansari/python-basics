{
 "cells": [
  {
   "cell_type": "code",
   "execution_count": 1,
   "id": "0796fd19",
   "metadata": {},
   "outputs": [
    {
     "name": "stdout",
     "output_type": "stream",
     "text": [
      "10\n"
     ]
    }
   ],
   "source": [
    "total = 0\n",
    "for i in range(1, 5):\n",
    "    total += i\n",
    "print(total)"
   ]
  },
  {
   "cell_type": "code",
   "execution_count": 2,
   "id": "57f695e6",
   "metadata": {},
   "outputs": [
    {
     "name": "stdout",
     "output_type": "stream",
     "text": [
      "10\n"
     ]
    }
   ],
   "source": [
    "total2 = 0\n",
    "# need to initialize ourselves\n",
    "j = 1\n",
    "while j < 5:\n",
    "    total2 += j\n",
    "    j += 1\n",
    "print(total2)"
   ]
  },
  {
   "cell_type": "code",
   "execution_count": 3,
   "id": "b74a4a9f",
   "metadata": {},
   "outputs": [
    {
     "name": "stdout",
     "output_type": "stream",
     "text": [
      "17\n"
     ]
    }
   ],
   "source": [
    "# when we don't know how man loops needed beforehand \n",
    "# in such use cases while loop is very useful,\n",
    "# add only positive numbers in a sorted list\n",
    "\n",
    "given_list = [5, 4, 4, 3, 1, -1, -2]\n",
    "\n",
    "total3 = 0\n",
    "i = 0\n",
    "while i < len(given_list) and given_list[i] > 0:\n",
    "    total3 += given_list[i]\n",
    "    i += 1\n",
    "print(total3)"
   ]
  },
  {
   "cell_type": "code",
   "execution_count": 4,
   "id": "f7a33b87",
   "metadata": {},
   "outputs": [
    {
     "name": "stdout",
     "output_type": "stream",
     "text": [
      "17\n"
     ]
    }
   ],
   "source": [
    "# using for loop\n",
    "total4 = 0\n",
    "\n",
    "for element in given_list:\n",
    "    if element <= 0:\n",
    "        break\n",
    "    total4 += element\n",
    "print(total4)"
   ]
  },
  {
   "cell_type": "code",
   "execution_count": 5,
   "id": "27753b57",
   "metadata": {},
   "outputs": [
    {
     "name": "stdout",
     "output_type": "stream",
     "text": [
      "17\n"
     ]
    }
   ],
   "source": [
    "# break statement stop execution of loop and come out of loop\n",
    "# used in while loop as well\n",
    "total5 = 0\n",
    "i = 0\n",
    "while True:\n",
    "    total5 += given_list[i]\n",
    "    i += 1\n",
    "    if i >= len(given_list) or given_list[i] <= 0:\n",
    "        break\n",
    "print(total5)"
   ]
  },
  {
   "cell_type": "code",
   "execution_count": 6,
   "id": "1c778a5f",
   "metadata": {},
   "outputs": [],
   "source": [
    "# find sum of all the negative numbers\n",
    "given_list2 = [7, 5, 4, 4, 3, 1, -2, -3, -5, -7]"
   ]
  },
  {
   "cell_type": "code",
   "execution_count": 7,
   "id": "948f6773",
   "metadata": {},
   "outputs": [
    {
     "name": "stdout",
     "output_type": "stream",
     "text": [
      "-17\n"
     ]
    }
   ],
   "source": [
    "# Solution using while loop\n",
    "\n",
    "total6 = 0\n",
    "i = len(given_list2) - 1\n",
    "while i >= 0 and given_list2[i] < 0:\n",
    "    total6 += given_list2[i]\n",
    "    i -= 1\n",
    "print(total6)"
   ]
  },
  {
   "cell_type": "code",
   "execution_count": 8,
   "id": "a1043469",
   "metadata": {},
   "outputs": [
    {
     "name": "stdout",
     "output_type": "stream",
     "text": [
      "-17\n"
     ]
    }
   ],
   "source": [
    "# Solution using for loop\n",
    "\n",
    "total7 = 0\n",
    "\n",
    "for element in given_list2:\n",
    "    if element < 0:\n",
    "        total7 += element\n",
    "print(total7)"
   ]
  },
  {
   "cell_type": "code",
   "execution_count": 9,
   "id": "07b94ef4",
   "metadata": {},
   "outputs": [
    {
     "name": "stdout",
     "output_type": "stream",
     "text": [
      "-17\n"
     ]
    }
   ],
   "source": [
    "# More solution using for loop\n",
    "\n",
    "total8 = 0\n",
    "n = len(given_list2) - 1 # since list is 0 indexed but len() -> integer value\n",
    "for i in range(n, -1, -1): # go backward by 1 from n till 0\n",
    "    if given_list2[i] >= 0:\n",
    "        break\n",
    "    total8 += given_list2[i]\n",
    "print(total8)"
   ]
  },
  {
   "cell_type": "code",
   "execution_count": 10,
   "id": "d2ea4294",
   "metadata": {},
   "outputs": [
    {
     "name": "stdout",
     "output_type": "stream",
     "text": [
      "-17\n"
     ]
    }
   ],
   "source": [
    "# More solution using while loop\n",
    "total9 = 0\n",
    "j = len(given_list2) - 1\n",
    "\n",
    "while given_list2[j] < 0:\n",
    "    total9 += given_list2[j]\n",
    "    j -= 1\n",
    "print(total9)"
   ]
  },
  {
   "cell_type": "code",
   "execution_count": null,
   "id": "c7a881cd",
   "metadata": {},
   "outputs": [],
   "source": []
  }
 ],
 "metadata": {
  "kernelspec": {
   "display_name": "Python 3 (ipykernel)",
   "language": "python",
   "name": "python3"
  },
  "language_info": {
   "codemirror_mode": {
    "name": "ipython",
    "version": 3
   },
   "file_extension": ".py",
   "mimetype": "text/x-python",
   "name": "python",
   "nbconvert_exporter": "python",
   "pygments_lexer": "ipython3",
   "version": "3.11.2"
  }
 },
 "nbformat": 4,
 "nbformat_minor": 5
}
