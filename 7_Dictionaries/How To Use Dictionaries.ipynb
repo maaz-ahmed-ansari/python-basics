{
 "cells": [
  {
   "cell_type": "code",
   "execution_count": 1,
   "id": "a43f218b",
   "metadata": {},
   "outputs": [],
   "source": [
    "# dictionary in python ~ a look-up table\n",
    "# to define a dictionary\n",
    "# d = {} or\n",
    "# d = dict()\n",
    "# both creates an empty dictionary "
   ]
  },
  {
   "cell_type": "code",
   "execution_count": 2,
   "id": "13a329a7",
   "metadata": {},
   "outputs": [],
   "source": [
    "d = {}\n",
    "# d ={\"George\": 24, \"Tom\": 32}"
   ]
  },
  {
   "cell_type": "code",
   "execution_count": 3,
   "id": "40e555ac",
   "metadata": {},
   "outputs": [],
   "source": [
    "# we can add a key value pair\n",
    "\n",
    "d[\"George\"] = 24\n",
    "# this will add a new key pair with key as \"George\"\n",
    "# and value 24"
   ]
  },
  {
   "cell_type": "code",
   "execution_count": 4,
   "id": "ddb913c6",
   "metadata": {},
   "outputs": [],
   "source": [
    "d[\"Tom\"] = 32"
   ]
  },
  {
   "cell_type": "code",
   "execution_count": 5,
   "id": "f84cfc81",
   "metadata": {},
   "outputs": [],
   "source": [
    "d[\"Jenny\"] = 16"
   ]
  },
  {
   "cell_type": "code",
   "execution_count": 6,
   "id": "7f9697da",
   "metadata": {},
   "outputs": [
    {
     "name": "stdout",
     "output_type": "stream",
     "text": [
      "24\n"
     ]
    }
   ],
   "source": [
    "# to look up value associated with a key\n",
    "# Dict[key]  -> return value associated with key in Dict\n",
    "print(d[\"George\"])"
   ]
  },
  {
   "cell_type": "code",
   "execution_count": 7,
   "id": "bd9bf16e",
   "metadata": {},
   "outputs": [
    {
     "ename": "KeyError",
     "evalue": "'Alice'",
     "output_type": "error",
     "traceback": [
      "\u001b[1;31m---------------------------------------------------------------------------\u001b[0m",
      "\u001b[1;31mKeyError\u001b[0m                                  Traceback (most recent call last)",
      "Cell \u001b[1;32mIn[7], line 2\u001b[0m\n\u001b[0;32m      1\u001b[0m \u001b[38;5;66;03m# trying to lookup key which doesn't exist will give key error\u001b[39;00m\n\u001b[1;32m----> 2\u001b[0m \u001b[38;5;28mprint\u001b[39m(\u001b[43md\u001b[49m\u001b[43m[\u001b[49m\u001b[38;5;124;43m\"\u001b[39;49m\u001b[38;5;124;43mAlice\u001b[39;49m\u001b[38;5;124;43m\"\u001b[39;49m\u001b[43m]\u001b[49m)\n",
      "\u001b[1;31mKeyError\u001b[0m: 'Alice'"
     ]
    }
   ],
   "source": [
    "# trying to lookup key which doesn't exist will give key error\n",
    "print(d[\"Alice\"])"
   ]
  },
  {
   "cell_type": "code",
   "execution_count": 8,
   "id": "64dff871",
   "metadata": {},
   "outputs": [
    {
     "name": "stdout",
     "output_type": "stream",
     "text": [
      "16\n"
     ]
    }
   ],
   "source": [
    "print(d[\"Jenny\"])"
   ]
  },
  {
   "cell_type": "code",
   "execution_count": 9,
   "id": "aa27fc66",
   "metadata": {},
   "outputs": [],
   "source": [
    "# we can change the value associated with a key\n",
    "d[\"Jenny\"] = 20"
   ]
  },
  {
   "cell_type": "code",
   "execution_count": 10,
   "id": "cc4e8001",
   "metadata": {},
   "outputs": [
    {
     "name": "stdout",
     "output_type": "stream",
     "text": [
      "20\n"
     ]
    }
   ],
   "source": [
    "print(d[\"Jenny\"])"
   ]
  },
  {
   "cell_type": "code",
   "execution_count": 11,
   "id": "89c1eea3",
   "metadata": {},
   "outputs": [],
   "source": [
    "# Values can be of any type\n",
    "# Keys commonly strings or numbers\n",
    "d[10] = 100"
   ]
  },
  {
   "cell_type": "code",
   "execution_count": 12,
   "id": "b45b52a4",
   "metadata": {},
   "outputs": [
    {
     "name": "stdout",
     "output_type": "stream",
     "text": [
      "100\n"
     ]
    }
   ],
   "source": [
    "print(d[10])"
   ]
  },
  {
   "cell_type": "code",
   "execution_count": 13,
   "id": "885cbab4",
   "metadata": {},
   "outputs": [
    {
     "name": "stdout",
     "output_type": "stream",
     "text": [
      "key: George, value: 24\n",
      "\n",
      "key: Tom, value: 32\n",
      "\n",
      "key: Jenny, value: 20\n",
      "\n",
      "key: 10, value: 100\n",
      "\n"
     ]
    }
   ],
   "source": [
    "# how to iterate over key-value pairs?\n",
    "for key, value in d.items():\n",
    "    print(\"key\", end=\": \")\n",
    "    print(key, end=\", \")\n",
    "    print(\"value\", end=\": \")\n",
    "    print(value)\n",
    "    print()"
   ]
  },
  {
   "cell_type": "code",
   "execution_count": null,
   "id": "f8fcb4a8",
   "metadata": {},
   "outputs": [],
   "source": []
  }
 ],
 "metadata": {
  "kernelspec": {
   "display_name": "Python 3 (ipykernel)",
   "language": "python",
   "name": "python3"
  },
  "language_info": {
   "codemirror_mode": {
    "name": "ipython",
    "version": 3
   },
   "file_extension": ".py",
   "mimetype": "text/x-python",
   "name": "python",
   "nbconvert_exporter": "python",
   "pygments_lexer": "ipython3",
   "version": "3.11.2"
  }
 },
 "nbformat": 4,
 "nbformat_minor": 5
}
