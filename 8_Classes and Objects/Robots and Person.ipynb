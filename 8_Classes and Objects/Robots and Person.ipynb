{
 "cells": [
  {
   "cell_type": "code",
   "execution_count": 1,
   "id": "119dad9d",
   "metadata": {},
   "outputs": [],
   "source": [
    "class Robot:\n",
    "    def __init__(self, name, color, weight):\n",
    "        self.name = name\n",
    "        self.color = color\n",
    "        self.weight = weight\n",
    "    \n",
    "    def introduce_self(self):\n",
    "        print(\"My name is \" + self.name)"
   ]
  },
  {
   "cell_type": "code",
   "execution_count": 2,
   "id": "e70cf2c8",
   "metadata": {},
   "outputs": [],
   "source": [
    "class Person:\n",
    "    def __init__(self, n, p, i):\n",
    "        self.name = n\n",
    "        self.personality = p\n",
    "        self.isSitting = i\n",
    "        \n",
    "    def sit_down(self):\n",
    "        self.isSitting = True\n",
    "        \n",
    "    def stand_up(self):\n",
    "        self.isSitting = False"
   ]
  },
  {
   "cell_type": "code",
   "execution_count": 3,
   "id": "1cfabfec",
   "metadata": {},
   "outputs": [],
   "source": [
    "r1 = Robot(\"Tom\", \"red\", 30)\n",
    "r2 = Robot(\"Jerry\", \"blue\", 40)"
   ]
  },
  {
   "cell_type": "code",
   "execution_count": 4,
   "id": "0ed17355",
   "metadata": {},
   "outputs": [],
   "source": [
    "p1 = Person(\"Alice\", \"aggressive\", False)\n",
    "p2 = Person(\"Becky\", \"aggressive\", True)"
   ]
  },
  {
   "cell_type": "code",
   "execution_count": 5,
   "id": "3d87c1ef",
   "metadata": {},
   "outputs": [],
   "source": [
    "p1.robot_owned = r2\n",
    "p2.robot_owned = r1"
   ]
  },
  {
   "cell_type": "code",
   "execution_count": 6,
   "id": "3ec08b49",
   "metadata": {},
   "outputs": [
    {
     "name": "stdout",
     "output_type": "stream",
     "text": [
      "My name is Jerry\n"
     ]
    }
   ],
   "source": [
    "p1.robot_owned.introduce_self()"
   ]
  },
  {
   "cell_type": "code",
   "execution_count": 7,
   "id": "9ca876bd",
   "metadata": {},
   "outputs": [],
   "source": [
    "p1.sit_down()"
   ]
  },
  {
   "cell_type": "code",
   "execution_count": 8,
   "id": "f19e43cd",
   "metadata": {},
   "outputs": [
    {
     "name": "stdout",
     "output_type": "stream",
     "text": [
      "True\n"
     ]
    }
   ],
   "source": [
    "print(p1.isSitting)"
   ]
  },
  {
   "cell_type": "code",
   "execution_count": null,
   "id": "5b74be6f",
   "metadata": {},
   "outputs": [],
   "source": []
  }
 ],
 "metadata": {
  "kernelspec": {
   "display_name": "Python 3 (ipykernel)",
   "language": "python",
   "name": "python3"
  },
  "language_info": {
   "codemirror_mode": {
    "name": "ipython",
    "version": 3
   },
   "file_extension": ".py",
   "mimetype": "text/x-python",
   "name": "python",
   "nbconvert_exporter": "python",
   "pygments_lexer": "ipython3",
   "version": "3.11.2"
  }
 },
 "nbformat": 4,
 "nbformat_minor": 5
}
