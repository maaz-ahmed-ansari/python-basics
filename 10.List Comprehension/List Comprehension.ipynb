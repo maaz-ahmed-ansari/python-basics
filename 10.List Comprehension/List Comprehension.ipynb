{
 "cells": [
  {
   "cell_type": "code",
   "execution_count": 1,
   "id": "5bf333f8",
   "metadata": {},
   "outputs": [],
   "source": [
    "a = [1, 3, 5, 7, 9, 11]"
   ]
  },
  {
   "cell_type": "code",
   "execution_count": 2,
   "id": "18ba0493",
   "metadata": {},
   "outputs": [],
   "source": [
    "# [2, 6, 10, 14, 18, 22]"
   ]
  },
  {
   "cell_type": "code",
   "execution_count": 3,
   "id": "e7b12863",
   "metadata": {},
   "outputs": [],
   "source": [
    "# .append()"
   ]
  },
  {
   "cell_type": "code",
   "execution_count": 4,
   "id": "5b9abb8c",
   "metadata": {},
   "outputs": [
    {
     "name": "stdout",
     "output_type": "stream",
     "text": [
      "[10, 20]\n"
     ]
    }
   ],
   "source": [
    "b = []\n",
    "b.append(10)\n",
    "b.append(20)\n",
    "print(b)"
   ]
  },
  {
   "cell_type": "code",
   "execution_count": 5,
   "id": "904f6d31",
   "metadata": {},
   "outputs": [
    {
     "name": "stdout",
     "output_type": "stream",
     "text": [
      "[2, 6, 10, 14, 18, 22]\n"
     ]
    }
   ],
   "source": [
    "c = []\n",
    "for x in a:\n",
    "    c.append(x * 2)\n",
    "print(c)"
   ]
  },
  {
   "cell_type": "code",
   "execution_count": 6,
   "id": "b552c6fa",
   "metadata": {},
   "outputs": [
    {
     "name": "stdout",
     "output_type": "stream",
     "text": [
      "[2, 6, 10, 14, 18, 22]\n"
     ]
    }
   ],
   "source": [
    "# using list comprehension\n",
    "d = [x * 2 for x in a]\n",
    "print(d)"
   ]
  },
  {
   "cell_type": "code",
   "execution_count": 7,
   "id": "077a6fc8",
   "metadata": {},
   "outputs": [
    {
     "name": "stdout",
     "output_type": "stream",
     "text": [
      "[1, 4, 9, 16, 25, 36]\n"
     ]
    }
   ],
   "source": [
    "# [1, 4, 9, 16, 25, 36]\n",
    "\n",
    "e1 = []\n",
    "for x in range(1, 7):\n",
    "    e1.append(x ** 2)\n",
    "print(e1)"
   ]
  },
  {
   "cell_type": "code",
   "execution_count": 8,
   "id": "be1f8faf",
   "metadata": {},
   "outputs": [
    {
     "name": "stdout",
     "output_type": "stream",
     "text": [
      "[1, 4, 9, 16, 25, 36]\n"
     ]
    }
   ],
   "source": [
    "# using list comprehension\n",
    "e2 = [x ** 2 for x in range(1, 7)]\n",
    "print(e2)"
   ]
  },
  {
   "cell_type": "code",
   "execution_count": 9,
   "id": "06c5d7ce",
   "metadata": {},
   "outputs": [
    {
     "name": "stdout",
     "output_type": "stream",
     "text": [
      "[36, 25, 16, 9, 4, 1]\n"
     ]
    }
   ],
   "source": [
    "# [36, 25, 9, 4, 1]\n",
    "f1 = []\n",
    "for x in range(6, 0, -1):\n",
    "    f1.append(x ** 2)\n",
    "print(f1)"
   ]
  },
  {
   "cell_type": "code",
   "execution_count": 10,
   "id": "0a19ea61",
   "metadata": {},
   "outputs": [
    {
     "name": "stdout",
     "output_type": "stream",
     "text": [
      "[36, 25, 16, 9, 4, 1]\n"
     ]
    }
   ],
   "source": [
    "# using list comprehension\n",
    "f2 = [x ** 2 for x in range(6, 0, -1)]\n",
    "print(f2)"
   ]
  },
  {
   "cell_type": "code",
   "execution_count": null,
   "id": "4e8e6cda",
   "metadata": {},
   "outputs": [],
   "source": []
  }
 ],
 "metadata": {
  "kernelspec": {
   "display_name": "Python 3 (ipykernel)",
   "language": "python",
   "name": "python3"
  },
  "language_info": {
   "codemirror_mode": {
    "name": "ipython",
    "version": 3
   },
   "file_extension": ".py",
   "mimetype": "text/x-python",
   "name": "python",
   "nbconvert_exporter": "python",
   "pygments_lexer": "ipython3",
   "version": "3.11.2"
  }
 },
 "nbformat": 4,
 "nbformat_minor": 5
}
