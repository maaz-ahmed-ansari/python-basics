{
 "cells": [
  {
   "cell_type": "code",
   "execution_count": 1,
   "id": "7047a130",
   "metadata": {},
   "outputs": [],
   "source": [
    "\n",
    "# Given a string, return a string where for every char in the original, there are two chars.\n",
    "\n",
    "\n",
    "# double_char('The') → 'TThhee'\n",
    "# double_char('AAbb') → 'AAAAbbbb'\n",
    "# double_char('Hi-There') → 'HHii--TThheerree'"
   ]
  },
  {
   "cell_type": "code",
   "execution_count": 2,
   "id": "0592facb",
   "metadata": {},
   "outputs": [],
   "source": [
    "# Solution\n",
    "\n",
    "def double_char(str):\n",
    "  double_char = \"\"\n",
    "  for char in str:\n",
    "    double_char += char * 2\n",
    "  return double_char"
   ]
  },
  {
   "cell_type": "code",
   "execution_count": 3,
   "id": "16a6bfad",
   "metadata": {},
   "outputs": [
    {
     "data": {
      "text/plain": [
       "'TThhee'"
      ]
     },
     "execution_count": 3,
     "metadata": {},
     "output_type": "execute_result"
    }
   ],
   "source": [
    "double_char('The')"
   ]
  },
  {
   "cell_type": "code",
   "execution_count": 4,
   "id": "e4a78b3c",
   "metadata": {},
   "outputs": [
    {
     "data": {
      "text/plain": [
       "'AAAAbbbb'"
      ]
     },
     "execution_count": 4,
     "metadata": {},
     "output_type": "execute_result"
    }
   ],
   "source": [
    "double_char('AAbb')"
   ]
  },
  {
   "cell_type": "code",
   "execution_count": 5,
   "id": "fd23f8d2",
   "metadata": {},
   "outputs": [
    {
     "data": {
      "text/plain": [
       "'HHii--TThheerree'"
      ]
     },
     "execution_count": 5,
     "metadata": {},
     "output_type": "execute_result"
    }
   ],
   "source": [
    "double_char('Hi-There')"
   ]
  },
  {
   "cell_type": "code",
   "execution_count": null,
   "id": "37f50710",
   "metadata": {},
   "outputs": [],
   "source": []
  }
 ],
 "metadata": {
  "kernelspec": {
   "display_name": "Python 3 (ipykernel)",
   "language": "python",
   "name": "python3"
  },
  "language_info": {
   "codemirror_mode": {
    "name": "ipython",
    "version": 3
   },
   "file_extension": ".py",
   "mimetype": "text/x-python",
   "name": "python",
   "nbconvert_exporter": "python",
   "pygments_lexer": "ipython3",
   "version": "3.11.2"
  }
 },
 "nbformat": 4,
 "nbformat_minor": 5
}
