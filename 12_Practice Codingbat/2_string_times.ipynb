{
 "cells": [
  {
   "cell_type": "code",
   "execution_count": 1,
   "id": "bbdc3d1f",
   "metadata": {},
   "outputs": [],
   "source": [
    "# Given a string and a non-negative int n, return a larger string that is n copies of the original string.\n",
    "\n",
    "\n",
    "# string_times('Hi', 2) → 'HiHi'\n",
    "# string_times('Hi', 3) → 'HiHiHi'\n",
    "# string_times('Hi', 1) → 'Hi'"
   ]
  },
  {
   "cell_type": "code",
   "execution_count": 2,
   "id": "4c480838",
   "metadata": {},
   "outputs": [],
   "source": [
    "# Solution\n",
    "def string_times(str, n):\n",
    "  return str * n"
   ]
  },
  {
   "cell_type": "code",
   "execution_count": 3,
   "id": "e73ef626",
   "metadata": {},
   "outputs": [
    {
     "data": {
      "text/plain": [
       "'HiHi'"
      ]
     },
     "execution_count": 3,
     "metadata": {},
     "output_type": "execute_result"
    }
   ],
   "source": [
    "string_times('Hi', 2)"
   ]
  },
  {
   "cell_type": "code",
   "execution_count": 4,
   "id": "cf361f8c",
   "metadata": {},
   "outputs": [
    {
     "data": {
      "text/plain": [
       "'HiHiHi'"
      ]
     },
     "execution_count": 4,
     "metadata": {},
     "output_type": "execute_result"
    }
   ],
   "source": [
    "string_times('Hi', 3)"
   ]
  },
  {
   "cell_type": "code",
   "execution_count": 5,
   "id": "8361f9a0",
   "metadata": {},
   "outputs": [
    {
     "data": {
      "text/plain": [
       "'Hi'"
      ]
     },
     "execution_count": 5,
     "metadata": {},
     "output_type": "execute_result"
    }
   ],
   "source": [
    "string_times('Hi', 1)"
   ]
  }
 ],
 "metadata": {
  "kernelspec": {
   "display_name": "Python 3 (ipykernel)",
   "language": "python",
   "name": "python3"
  },
  "language_info": {
   "codemirror_mode": {
    "name": "ipython",
    "version": 3
   },
   "file_extension": ".py",
   "mimetype": "text/x-python",
   "name": "python",
   "nbconvert_exporter": "python",
   "pygments_lexer": "ipython3",
   "version": "3.11.2"
  }
 },
 "nbformat": 4,
 "nbformat_minor": 5
}
