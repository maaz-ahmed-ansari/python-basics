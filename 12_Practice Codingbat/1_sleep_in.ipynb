{
 "cells": [
  {
   "cell_type": "code",
   "execution_count": 1,
   "id": "919025e5",
   "metadata": {},
   "outputs": [],
   "source": [
    "\n",
    "# The parameter weekday is True if it is a weekday, and the parameter vacation is True if we are on vacation. We sleep in if it is not a weekday or we're on vacation. Return True if we sleep in.\n",
    "\n",
    "\n",
    "# sleep_in(False, False) → True\n",
    "# sleep_in(True, False) → False\n",
    "# sleep_in(False, True) → True"
   ]
  },
  {
   "cell_type": "code",
   "execution_count": 2,
   "id": "21908414",
   "metadata": {},
   "outputs": [],
   "source": [
    "def sleep_in(weekday, vacation):\n",
    "  return not weekday or vacation"
   ]
  },
  {
   "cell_type": "code",
   "execution_count": 3,
   "id": "fb3e2a19",
   "metadata": {},
   "outputs": [
    {
     "data": {
      "text/plain": [
       "True"
      ]
     },
     "execution_count": 3,
     "metadata": {},
     "output_type": "execute_result"
    }
   ],
   "source": [
    "sleep_in(False, False)"
   ]
  },
  {
   "cell_type": "code",
   "execution_count": 4,
   "id": "eb7252bf",
   "metadata": {},
   "outputs": [
    {
     "data": {
      "text/plain": [
       "False"
      ]
     },
     "execution_count": 4,
     "metadata": {},
     "output_type": "execute_result"
    }
   ],
   "source": [
    "sleep_in(True, False) "
   ]
  },
  {
   "cell_type": "code",
   "execution_count": 5,
   "id": "7400035a",
   "metadata": {},
   "outputs": [
    {
     "data": {
      "text/plain": [
       "True"
      ]
     },
     "execution_count": 5,
     "metadata": {},
     "output_type": "execute_result"
    }
   ],
   "source": [
    "sleep_in(False, True)"
   ]
  },
  {
   "cell_type": "code",
   "execution_count": null,
   "id": "ea4cf082",
   "metadata": {},
   "outputs": [],
   "source": []
  }
 ],
 "metadata": {
  "kernelspec": {
   "display_name": "Python 3 (ipykernel)",
   "language": "python",
   "name": "python3"
  },
  "language_info": {
   "codemirror_mode": {
    "name": "ipython",
    "version": 3
   },
   "file_extension": ".py",
   "mimetype": "text/x-python",
   "name": "python",
   "nbconvert_exporter": "python",
   "pygments_lexer": "ipython3",
   "version": "3.11.2"
  }
 },
 "nbformat": 4,
 "nbformat_minor": 5
}
